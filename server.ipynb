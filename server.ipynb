{
 "cells": [
  {
   "cell_type": "code",
   "execution_count": null,
   "metadata": {},
   "outputs": [],
   "source": [
    "# !pip install Flask\n",
    "pip install Flask"
   ]
  },
  {
   "cell_type": "markdown",
   "metadata": {},
   "source": [
    "from flask import Flask, request, render_template\n",
    "import os\n",
    "\n",
    "app = Flask(__name__)"
   ]
  },
  {
   "cell_type": "code",
   "execution_count": null,
   "metadata": {},
   "outputs": [],
   "source": [
    "diary_entries = {}\n",
    "\n",
    "@app.route('/')\n",
    "def index():\n",
    "  return render_template('index.html', entries=diary_entries)\n",
    "\n",
    "@app.route('/add_entry', methods=['POST'])\n",
    "def add_entry():\n",
    "  data = request.form['date']\n",
    "  entry = request.form['entry']\n",
    "  diary_entries[date] = entry\n",
    "  return render_template('index.html', entries=diary_entries)\n",
    "\n",
    "if __name__ = '__main__':\n",
    "  app.run(debug=True)\n"
   ]
  }
 ],
 "metadata": {
  "language_info": {
   "name": "python"
  },
  "orig_nbformat": 4
 },
 "nbformat": 4,
 "nbformat_minor": 2
}
